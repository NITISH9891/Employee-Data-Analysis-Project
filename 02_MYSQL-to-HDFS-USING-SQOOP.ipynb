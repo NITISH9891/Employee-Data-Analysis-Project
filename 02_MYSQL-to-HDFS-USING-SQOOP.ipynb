{
 "cells": [
  {
   "cell_type": "markdown",
   "id": "a401dbde",
   "metadata": {
    "slideshow": {
     "slide_type": "-"
    }
   },
   "source": [
    "# SQOOP COMMANDS\n"
   ]
  },
  {
   "cell_type": "markdown",
   "id": "af57f165",
   "metadata": {},
   "source": [
    "## 1) List all warehouse directory of hdfs. Remove is exist"
   ]
  },
  {
   "cell_type": "code",
   "execution_count": 7,
   "id": "a84ec813",
   "metadata": {},
   "outputs": [
    {
     "name": "stdout",
     "output_type": "stream",
     "text": [
      "Found 3 items\n",
      "drwxr-xr-x   - root supergroup          0 2023-01-28 23:59 /employee_data\n",
      "drwx-wx-wx   - root supergroup          0 2023-02-02 23:18 /tmp\n",
      "drwxr-xr-x   - root supergroup          0 2023-01-29 21:57 /user\n"
     ]
    }
   ],
   "source": [
    "%%sh \n",
    "\n",
    "hdfs dfs -ls /\n",
    "\n",
    "# hdfs dfs -rm -R /employee_data"
   ]
  },
  {
   "cell_type": "markdown",
   "id": "3057f5f3",
   "metadata": {},
   "source": [
    "## 2)Display the list of tables in the database in  mysql using sqoop command"
   ]
  },
  {
   "cell_type": "code",
   "execution_count": 2,
   "id": "1e1212c9",
   "metadata": {
    "scrolled": true
   },
   "outputs": [
    {
     "name": "stdout",
     "output_type": "stream",
     "text": [
      "Warning: /root/sqoop-1.4.7/../hbase does not exist! HBase imports will fail.\n",
      "Please set $HBASE_HOME to the root of your HBase installation.\n",
      "Warning: /root/sqoop-1.4.7/../hcatalog does not exist! HCatalog jobs will fail.\n",
      "Please set $HCAT_HOME to the root of your HCatalog installation.\n",
      "Warning: /root/sqoop-1.4.7/../accumulo does not exist! Accumulo imports will fail.\n",
      "Please set $ACCUMULO_HOME to the root of your Accumulo installation.\n",
      "Warning: /root/sqoop-1.4.7/../zookeeper does not exist! Accumulo imports will fail.\n",
      "Please set $ZOOKEEPER_HOME to the root of your Zookeeper installation.\n"
     ]
    },
    {
     "name": "stderr",
     "output_type": "stream",
     "text": [
      "23/02/02 23:17:30 INFO sqoop.Sqoop: Running Sqoop version: 1.4.7\n",
      "23/02/02 23:17:30 WARN tool.BaseSqoopTool: Setting your password on the command-line is insecure. Consider using -P instead.\n",
      "23/02/02 23:17:30 INFO manager.MySQLManager: Preparing to use a MySQL streaming resultset.\n",
      "Loading class `com.mysql.jdbc.Driver'. This is deprecated. The new driver class is `com.mysql.cj.jdbc.Driver'. The driver is automatically registered via the SPI and manual loading of the driver class is generally unnecessary.\n"
     ]
    },
    {
     "name": "stdout",
     "output_type": "stream",
     "text": [
      "departments\n",
      "dept_emp\n",
      "dept_manager\n",
      "employees\n",
      "salaries\n",
      "titles\n"
     ]
    },
    {
     "name": "stderr",
     "output_type": "stream",
     "text": [
      "Thu Feb 02 23:17:31 IST 2023 WARN: Caught while disconnecting...\n",
      "\n",
      "EXCEPTION STACK TRACE:\n",
      "\n",
      "\n",
      "\n",
      "** BEGIN NESTED EXCEPTION ** \n",
      "\n",
      "javax.net.ssl.SSLException\n",
      "MESSAGE: closing inbound before receiving peer's close_notify\n",
      "\n",
      "STACKTRACE:\n",
      "\n",
      "javax.net.ssl.SSLException: closing inbound before receiving peer's close_notify\n",
      "\tat sun.security.ssl.SSLSocketImpl.shutdownInput(SSLSocketImpl.java:740)\n",
      "\tat sun.security.ssl.SSLSocketImpl.shutdownInput(SSLSocketImpl.java:719)\n",
      "\tat com.mysql.cj.protocol.a.NativeProtocol.quit(NativeProtocol.java:1312)\n",
      "\tat com.mysql.cj.NativeSession.quit(NativeSession.java:182)\n",
      "\tat com.mysql.cj.jdbc.ConnectionImpl.realClose(ConnectionImpl.java:1750)\n",
      "\tat com.mysql.cj.jdbc.ConnectionImpl.close(ConnectionImpl.java:720)\n",
      "\tat org.apache.sqoop.manager.GenericJdbcManager.discardConnection(GenericJdbcManager.java:78)\n",
      "\tat org.apache.sqoop.manager.GenericJdbcManager.close(GenericJdbcManager.java:88)\n",
      "\tat org.apache.sqoop.tool.BaseSqoopTool.destroy(BaseSqoopTool.java:305)\n",
      "\tat org.apache.sqoop.tool.ListTablesTool.run(ListTablesTool.java:60)\n",
      "\tat org.apache.sqoop.Sqoop.run(Sqoop.java:147)\n",
      "\tat org.apache.hadoop.util.ToolRunner.run(ToolRunner.java:70)\n",
      "\tat org.apache.sqoop.Sqoop.runSqoop(Sqoop.java:183)\n",
      "\tat org.apache.sqoop.Sqoop.runTool(Sqoop.java:234)\n",
      "\tat org.apache.sqoop.Sqoop.runTool(Sqoop.java:243)\n",
      "\tat org.apache.sqoop.Sqoop.main(Sqoop.java:252)\n",
      "\n",
      "\n",
      "** END NESTED EXCEPTION **\n",
      "\n",
      "\n"
     ]
    }
   ],
   "source": [
    "%%sh\n",
    "\n",
    "sqoop list-tables \\\n",
    "                --connect jdbc:mysql://localhost:3306/big_data \\\n",
    "                --username root \\\n",
    "                --password Root123@"
   ]
  },
  {
   "cell_type": "markdown",
   "id": "6fdaf927",
   "metadata": {},
   "source": [
    "# 3)Import all tables into hdfs(warehouse) using sqoop command"
   ]
  },
  {
   "cell_type": "code",
   "execution_count": null,
   "id": "899467e1",
   "metadata": {
    "scrolled": true
   },
   "outputs": [],
   "source": [
    "%%sh \n",
    "\n",
    "sqoop import-all-tables \\\n",
    "                -Dmapreduce.job.classloader=true \\\n",
    "                -Dmapreduce.job.user.classpath.first=true \\\n",
    "                --connect jdbc:mysql://localhost:3306/big_data \\\n",
    "                --username root --password Root123@ \\\n",
    "                --warehouse-dir=/employee_data \\\n",
    "                --driver com.mysql.jdbc.Driver \\\n",
    "                --m 1\n"
   ]
  },
  {
   "cell_type": "markdown",
   "id": "aa468700",
   "metadata": {},
   "source": [
    "# 4) Check whether the data is moved to HDFS or not"
   ]
  },
  {
   "cell_type": "code",
   "execution_count": 9,
   "id": "d80a8672",
   "metadata": {},
   "outputs": [
    {
     "name": "stdout",
     "output_type": "stream",
     "text": [
      "Found 6 items\n",
      "drwxr-xr-x   - root supergroup          0 2023-01-29 20:58 /employee_data/departments\n",
      "drwxr-xr-x   - root supergroup          0 2023-01-28 23:54 /employee_data/dept_emp\n",
      "drwxr-xr-x   - root supergroup          0 2023-01-28 23:55 /employee_data/dept_manager\n",
      "drwxr-xr-x   - root supergroup          0 2023-01-28 23:57 /employee_data/employees\n",
      "drwxr-xr-x   - root supergroup          0 2023-01-28 23:58 /employee_data/salaries\n",
      "drwxr-xr-x   - root supergroup          0 2023-01-28 23:59 /employee_data/titles\n"
     ]
    }
   ],
   "source": [
    "%%sh\n",
    "\n",
    "hdfs dfs -ls /employee_data\n"
   ]
  },
  {
   "cell_type": "code",
   "execution_count": 11,
   "id": "eee0e1fc",
   "metadata": {},
   "outputs": [
    {
     "name": "stdout",
     "output_type": "stream",
     "text": [
      "Found 3 items\n",
      "drwxr-xr-x   - root supergroup          0 2023-01-29 20:58 /employee_data/departments/.metadata\n",
      "-rw-r--r--   1 root supergroup          0 2023-01-28 23:53 /employee_data/departments/_SUCCESS\n",
      "-rw-r--r--   1 root supergroup        171 2023-01-28 23:53 /employee_data/departments/part-m-00000\n",
      "Found 2 items\n",
      "-rw-r--r--   1 root supergroup          0 2023-01-28 23:54 /employee_data/dept_emp/_SUCCESS\n",
      "-rw-r--r--   1 root supergroup    3879767 2023-01-28 23:54 /employee_data/dept_emp/part-m-00000\n",
      "Found 2 items\n",
      "-rw-r--r--   1 root supergroup          0 2023-01-28 23:55 /employee_data/dept_manager/_SUCCESS\n",
      "-rw-r--r--   1 root supergroup        288 2023-01-28 23:55 /employee_data/dept_manager/part-m-00000\n",
      "Found 2 items\n",
      "-rw-r--r--   1 root supergroup          0 2023-01-28 23:57 /employee_data/employees/_SUCCESS\n",
      "-rw-r--r--   1 root supergroup   17720578 2023-01-28 23:57 /employee_data/employees/part-m-00000\n",
      "Found 2 items\n",
      "-rw-r--r--   1 root supergroup          0 2023-01-28 23:58 /employee_data/salaries/_SUCCESS\n",
      "-rw-r--r--   1 root supergroup    3811601 2023-01-28 23:58 /employee_data/salaries/part-m-00000\n",
      "Found 2 items\n",
      "-rw-r--r--   1 root supergroup          0 2023-01-28 23:59 /employee_data/titles/_SUCCESS\n",
      "-rw-r--r--   1 root supergroup        130 2023-01-28 23:59 /employee_data/titles/part-m-00000\n"
     ]
    }
   ],
   "source": [
    "%%sh\n",
    "\n",
    "hdfs dfs -ls /employee_data/departments\n",
    "hdfs dfs -ls /employee_data/dept_emp\n",
    "hdfs dfs -ls /employee_data/dept_manager\n",
    "hdfs dfs -ls /employee_data/employees\n",
    "hdfs dfs -ls /employee_data/salaries\n",
    "hdfs dfs -ls /employee_data/titles\n"
   ]
  }
 ],
 "metadata": {
  "kernelspec": {
   "display_name": "Python 3.9 (ipykernel)",
   "language": "python",
   "name": "python3.9"
  },
  "language_info": {
   "codemirror_mode": {
    "name": "ipython",
    "version": 3
   },
   "file_extension": ".py",
   "mimetype": "text/x-python",
   "name": "python",
   "nbconvert_exporter": "python",
   "pygments_lexer": "ipython3",
   "version": "3.9.6"
  }
 },
 "nbformat": 4,
 "nbformat_minor": 5
}
