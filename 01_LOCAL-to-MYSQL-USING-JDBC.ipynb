{
 "cells": [
  {
   "cell_type": "markdown",
   "id": "e4161d67",
   "metadata": {},
   "source": [
    "# IMPORT_DATA _FROM_LOCAL_to_MYSQL_USING_JDBC"
   ]
  },
  {
   "cell_type": "code",
   "execution_count": 1,
   "id": "b0442185",
   "metadata": {},
   "outputs": [],
   "source": [
    "import mysql.connector as connector\n",
    "from mysql.connector import errorcode\n"
   ]
  },
  {
   "cell_type": "markdown",
   "id": "e5f9cfb8",
   "metadata": {},
   "source": [
    "## Establish connection with MySQL Database"
   ]
  },
  {
   "cell_type": "code",
   "execution_count": 4,
   "id": "50815cfb",
   "metadata": {},
   "outputs": [
    {
     "name": "stdout",
     "output_type": "stream",
     "text": [
      "Connected  successfully.\n"
     ]
    }
   ],
   "source": [
    "try:\n",
    "    con = connector.connect(host='localhost',\\\n",
    "                            port ='3306',\\\n",
    "                            user ='root',password='Root123@',\\\n",
    "                            use_pure=True,\\\n",
    "                            allow_local_infile=True)\n",
    "    cur = con.cursor(buffered=True)\n",
    "    print(\"Connected  successfully.\")\n",
    "except connector.Error as e:\n",
    "    print(\"Failed creating connection: {}\".format(e))"
   ]
  },
  {
   "cell_type": "markdown",
   "id": "e9968442",
   "metadata": {},
   "source": [
    "## Creating the Database \"big_data\""
   ]
  },
  {
   "cell_type": "code",
   "execution_count": null,
   "id": "7fbfe637",
   "metadata": {
    "scrolled": true
   },
   "outputs": [],
   "source": [
    "DB_NAME = 'big-data'\n",
    "\n",
    "try:\n",
    "    cur.execute(\n",
    "        \"CREATE DATABASE {\" \"} \".format(DB_NAME))\n",
    "    print(\"Database {} created successfully.\".format(DB_NAME))\n",
    "except connector.Error as e:\n",
    "    print(\"Failed creating database: {}\".format(e))\n",
    "\n",
    "try:\n",
    "    cur.execute(\"USE {}\".format(DB_NAME))\n",
    "except connector.Error as e:\n",
    "    print(\"Database {} does not exists.\".format(DB_NAME))\n",
    "    "
   ]
  },
  {
   "cell_type": "markdown",
   "id": "969bf095",
   "metadata": {},
   "source": [
    "## Creating the table schemas for our data"
   ]
  },
  {
   "cell_type": "code",
   "execution_count": 4,
   "id": "d227cbf5",
   "metadata": {},
   "outputs": [],
   "source": [
    "T = ['employees', 'departments', 'salaries', 'dept_manager', 'titles', 'dept_emp']\n",
    "\n",
    "for tbl in T:\n",
    "    try:\n",
    "        cur.execute(\"DROP TABLE IF EXISTS {}\".format(tbl))\n",
    "    except connector.Error as e:\n",
    "        print('e')"
   ]
  },
  {
   "cell_type": "code",
   "execution_count": 5,
   "id": "a2e21a0f",
   "metadata": {},
   "outputs": [
    {
     "name": "stdout",
     "output_type": "stream",
     "text": [
      "Table employees created. \n",
      "OK\n",
      "Table departments created. \n",
      "OK\n",
      "Table salaries created. \n",
      "OK\n",
      "Table dept_manager created. \n",
      "OK\n",
      "Table titles created. \n",
      "OK\n",
      "Table dept_emp created. \n",
      "OK\n"
     ]
    }
   ],
   "source": [
    "\n",
    "TABLES = {}\n",
    "\n",
    "TABLES['employees'] = (\"CREATE TABLE employees (emp_no VARCHAR(20),emp_title_id VARCHAR(20),birth_date VARCHAR(20),\\\n",
    "                                                first_name VARCHAR(20),last_name VARCHAR(20),sex VARCHAR(20),\\\n",
    "                                                hire_date VARCHAR(20),no_of_projects VARCHAR(20),\\\n",
    "                                                Last_performance_rating VARCHAR(20),left_ VARCHAR(20),last_date VARCHAR(20))\")\n",
    "\n",
    "TABLES['departments'] = (\"CREATE TABLE departments (dept_no VARCHAR(20),dept_name VARCHAR(20))\")\n",
    "\n",
    "TABLES['salaries'] = (\"CREATE TABLE salaries (emp_no VARCHAR(20),salary VARCHAR(20))\")\n",
    "\n",
    "TABLES['dept_manager'] = (\"CREATE TABLE dept_manager (dept_no VARCHAR(20), emp_no VARCHAR(20))\")\n",
    "\n",
    "TABLES['titles'] = (\"CREATE TABLE titles (title_id VARCHAR(20),title VARCHAR(20))\")\n",
    "\n",
    "TABLES['dept_emp'] = (\"CREATE TABLE dept_emp (emp_no VARCHAR(20),dept_no VARCHAR(20))\")\n",
    "\n",
    "\n",
    "for table_name in TABLES:\n",
    "    schema = TABLES[table_name]\n",
    "    try:\n",
    "        cur.execute(schema)\n",
    "        print(\"Table {\" \"} created. \".format(table_name))\n",
    "    except connector.Error as e:\n",
    "        print(\"Failed to create TABLE : {}\".format(e))\n",
    "    else:\n",
    "        print(\"OK\")\n"
   ]
  },
  {
   "cell_type": "markdown",
   "id": "1fd10334",
   "metadata": {},
   "source": [
    "# Adding the primary key and foreign key to the tables"
   ]
  },
  {
   "cell_type": "code",
   "execution_count": 6,
   "id": "8e42c153",
   "metadata": {},
   "outputs": [],
   "source": [
    "\n",
    "TABLE = {}\n",
    "\n",
    "TABLES['titles'] = (\"ALTER TABLE titles ADD PRIMARY KEY(title_id)\")\n",
    "TABLES['employees'] = (\"ALTER TABLE employees ADD PRIMARY KEY(emp_no)\")\n",
    "TABLES['employees'] = (\"ALTER TABLE employees ADD FOREIGN KEY(emp_title_id) REFERENCES titles(title_id)\")\n",
    "TABLES['salaries'] = (\"ALTER TABLE salaries ADD FOREIGN KEY(emp_no) REFERENCES employees(emp_no)\")\n",
    "TABLES['departments'] = (\"ALTER TABLE departments ADD PRIMARY KEY(dept_no)\")\n",
    "TABLES['dept_emp'] = (\"ALTER TABLE dept_emp ADD FOREIGN KEY(emp_no) REFERENCES employees(emp_no)\")\n",
    "TABLES['dept_emp'] = (\"ALTER TABLE dept_emp ADD FOREIGN KEY(dept_no) REFERENCES departments(dept_no)\")\n",
    "TABLES['dept_manager'] = (\"ALTER TABLE dept_manager ADD FOREIGN KEY(emp_no) REFERENCES employees(emp_no)\")\n",
    "TABLES['dept_manager'] = (\"ALTER TABLE dept_manager ADD FOREIGN KEY(dept_no) REFERENCES departments(dept_no)\")\n",
    "\n",
    "for table_name in TABLE:\n",
    "    schema = TABLE[table_name]\n",
    "    try:\n",
    "        cur.execute(schema)\n",
    "        print(\"keys of {\" \"} created. \".format(table_name), end='')\n",
    "    except connector.Error as e:\n",
    "        print(\"Failed to create TABLE : {}\".format(e))\n",
    "    else:\n",
    "        print(\"OK\")"
   ]
  },
  {
   "cell_type": "markdown",
   "id": "f4c0bf70",
   "metadata": {},
   "source": [
    "## Loading the data from local-system to Mysql"
   ]
  },
  {
   "cell_type": "code",
   "execution_count": 7,
   "id": "992259a8",
   "metadata": {},
   "outputs": [],
   "source": [
    "load_data ={}\n",
    "\n",
    "load_data['employees'] = (\"LOAD DATA LOCAL INFILE '/root/employee-data/Data/employees.csv' \\\n",
    "                                            INTO TABLE employees FIELDS TERMINATED BY ',' LINES TERMINATED BY '\\n' \\\n",
    "                                            IGNORE 1 rows\")\n",
    "\n",
    "load_data['departments'] = (\"LOAD DATA LOCAL INPATH '/root/employee-data/Data/departments.csv' \\\n",
    "                                            INTO TABLE departments FIELDS TERMINATED BY ';' LINES TERMINATED BY '\\n' \\\n",
    "                                            IGNORE 1 rows\")\n",
    "\n",
    "load_data['salaries'] = (\"LOAD DATA LOCAL INFILE '/root/employee-data/Data/salaries.csv' \\\n",
    "                                    INTO TABLE salaries FIELDS TERMINATED BY ',' LINES TERMINATED BY '\\n' \\\n",
    "                                    IGNORE 1 rows\")\n",
    "\n",
    "load_data['dept_manager'] = (\"LOAD DATA LOCAL INFILE '/root/employee-data/Data/dept_manager.csv' \\\n",
    "                                                INTO TABLE dept_manager FIELDS TERMINATED BY ',' LINES TERMINATED BY '\\n' \\\n",
    "                                                IGNORE 1 rows\")\n",
    "\n",
    "load_data['titles'] = (\"LOAD DATA LOCAL INFILE '/root/employee-data/Data/titles.csv' \\\n",
    "                                INTO TABLE titles FIELDS TERMINATED BY ',' LINES TERMINATED BY '\\n' \\\n",
    "                                IGNORE 1 rows\")\n",
    "\n",
    "load_data['dept_emp'] = (\"LOAD DATA LOCAL INFILE '/root/employee-data/Data/dept_emp.csv' \\\n",
    "                                        INTO TABLE dept_emp FIELDS TERMINATED BY ',' LINES TERMINATED BY '\\n' \\\n",
    "                                        IGNORE 1 rows\")\n",
    "\n"
   ]
  },
  {
   "cell_type": "code",
   "execution_count": 8,
   "id": "1cdfc495",
   "metadata": {},
   "outputs": [
    {
     "name": "stdout",
     "output_type": "stream",
     "text": [
      "Load data into employees table: \n",
      "Load data into departments table: \n",
      "Load data into salaries table: \n",
      "Load data into dept_manager table: \n",
      "Load data into titles table: \n",
      "Load data into dept_emp table: \n"
     ]
    }
   ],
   "source": [
    "try:\n",
    "    cur.execute(\"USE {}\".format(DB_NAME))\n",
    "except connector.Error as e:\n",
    "    print(\"Database {} does not exists.\".format(DB_NAME))\n",
    "\n",
    "for table_name in load_data:\n",
    "    table_description = load_data[table_name]\n",
    "    try:\n",
    "        cur.execute(table_description)\n",
    "        print(\"Load data into {} table: \".format(table_name))\n",
    "    except connector.Error as e:\n",
    "        print(\"Failed to create TABLE : {}\".format(e))\n",
    "    "
   ]
  },
  {
   "cell_type": "markdown",
   "id": "8c25af1e",
   "metadata": {},
   "source": [
    "## Check if the data was loaded into the table successfully"
   ]
  },
  {
   "cell_type": "code",
   "execution_count": 9,
   "id": "deb56f5f",
   "metadata": {},
   "outputs": [
    {
     "name": "stdout",
     "output_type": "stream",
     "text": [
      "Total number of ROWS in employees Table: [(300024,)] \n",
      "Total number of ROWS in departments Table: [(9,)] \n",
      "Total number of ROWS in salaries Table: [(300024,)] \n",
      "Total number of ROWS in dept_manager Table: [(24,)] \n",
      "Total number of ROWS in titles Table: [(7,)] \n",
      "Total number of ROWS in dept_emp Table: [(331603,)] \n"
     ]
    }
   ],
   "source": [
    "tables = ['employees', 'departments', 'salaries', 'dept_manager', 'titles', 'dept_emp']\n",
    "\n",
    "try:\n",
    "    cur.execute(\"USE {}\".format(DB_NAME))\n",
    "except connector.Error as e:\n",
    "    print(\"Database {} does not exists.\".format(DB_NAME))\n",
    "\n",
    "for table_name in tables:\n",
    "    try:\n",
    "        cur.execute(\"select count(*) from {} \".format(table_name))\n",
    "        total=cur.fetchall()\n",
    "        print(\"Total number of ROWS in {} Table: {} \".format(table_name,total))\n",
    "    except connector.Error as e:\n",
    "        print(\"Table {} does not exists : {}\".format(tables))"
   ]
  },
  {
   "cell_type": "code",
   "execution_count": 10,
   "id": "b606b18f",
   "metadata": {},
   "outputs": [
    {
     "name": "stdout",
     "output_type": "stream",
     "text": [
      "('s0001', 'Staff')\n",
      "('s0002', 'Senior Staff')\n",
      "('e0001', 'Assistant Engineer')\n",
      "('e0002', 'Engineer')\n",
      "('e0003', 'Senior Engineer')\n"
     ]
    }
   ],
   "source": [
    "cur.execute(\"select * from titles limit 5\")\n",
    "for detail in cur:\n",
    "    print(detail)"
   ]
  },
  {
   "cell_type": "code",
   "execution_count": 11,
   "id": "24874602",
   "metadata": {},
   "outputs": [],
   "source": [
    "# cur.close()\n",
    "# con.close()"
   ]
  }
 ],
 "metadata": {
  "kernelspec": {
   "display_name": "Python 3.9 (ipykernel)",
   "language": "python",
   "name": "python3.9"
  },
  "language_info": {
   "codemirror_mode": {
    "name": "ipython",
    "version": 3
   },
   "file_extension": ".py",
   "mimetype": "text/x-python",
   "name": "python",
   "nbconvert_exporter": "python",
   "pygments_lexer": "ipython3",
   "version": "3.9.6"
  }
 },
 "nbformat": 4,
 "nbformat_minor": 5
}
