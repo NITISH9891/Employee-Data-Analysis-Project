{
 "cells": [
  {
   "cell_type": "markdown",
   "id": "e71eb6b2",
   "metadata": {},
   "source": [
    "# IMPORT_DATA_USING_SPARK\n",
    "\n"
   ]
  },
  {
   "cell_type": "code",
   "execution_count": 5,
   "id": "5eb3fb93",
   "metadata": {},
   "outputs": [],
   "source": [
    "import pyspark\n",
    "from pyspark.sql import SparkSession"
   ]
  },
  {
   "cell_type": "markdown",
   "id": "b752806f",
   "metadata": {},
   "source": [
    "# Creating  a SPARK session"
   ]
  },
  {
   "cell_type": "code",
   "execution_count": 1,
   "id": "c0470df0",
   "metadata": {},
   "outputs": [
    {
     "data": {
      "text/html": [
       "\n",
       "            <div>\n",
       "                <p><b>SparkSession - hive</b></p>\n",
       "                \n",
       "        <div>\n",
       "            <p><b>SparkContext</b></p>\n",
       "\n",
       "            <p><a href=\"http://192.168.0.109:4040\">Spark UI</a></p>\n",
       "\n",
       "            <dl>\n",
       "              <dt>Version</dt>\n",
       "                <dd><code>v2.4.3</code></dd>\n",
       "              <dt>Master</dt>\n",
       "                <dd><code>local[*]</code></dd>\n",
       "              <dt>AppName</dt>\n",
       "                <dd><code>PySparkShell</code></dd>\n",
       "            </dl>\n",
       "        </div>\n",
       "        \n",
       "            </div>\n",
       "        "
      ],
      "text/plain": [
       "<pyspark.sql.session.SparkSession at 0x7f1995c58470>"
      ]
     },
     "execution_count": 1,
     "metadata": {},
     "output_type": "execute_result"
    }
   ],
   "source": [
    "spark = SparkSession \\\n",
    "    .builder \\\n",
    "    .appName(\"IMPORT-DATA-USING-SPARK\") \\\n",
    "    .getOrCreate()\n",
    "spark\n",
    "#spark.sparkContext.getConf().getAll()"
   ]
  },
  {
   "cell_type": "code",
   "execution_count": 4,
   "id": "149a46b9",
   "metadata": {},
   "outputs": [
    {
     "name": "stdout",
     "output_type": "stream",
     "text": [
      "+------------+\n",
      "|databaseName|\n",
      "+------------+\n",
      "|     default|\n",
      "|         emp|\n",
      "+------------+\n",
      "\n"
     ]
    }
   ],
   "source": [
    "spark.sql(\"show databases \").show()"
   ]
  },
  {
   "cell_type": "markdown",
   "id": "a8e990e1",
   "metadata": {},
   "source": [
    "# Create a Database"
   ]
  },
  {
   "cell_type": "code",
   "execution_count": 3,
   "id": "8f1a7729",
   "metadata": {},
   "outputs": [
    {
     "data": {
      "text/plain": [
       "DataFrame[]"
      ]
     },
     "execution_count": 3,
     "metadata": {},
     "output_type": "execute_result"
    }
   ],
   "source": [
    "spark.sql(\"create database emp\")\n",
    "spark.sql(\"use emp\")\n",
    "# spark.sql(\"drop table emp.departments\")\n",
    "# spark.sql(\"drop table emp.employee\")\n",
    "# spark.sql(\"drop table emp.dept_emp\")\n",
    "# spark.sql(\"drop table emp.dept_manager\")\n",
    "# spark.sql(\"drop table emp.salaries\")\n",
    "# spark.sql(\"drop table emp.titles\")"
   ]
  },
  {
   "cell_type": "markdown",
   "id": "5a998c09",
   "metadata": {},
   "source": [
    "# Import all tables into HIVE(warehouse) one-by-one using SPARK Commands"
   ]
  },
  {
   "cell_type": "code",
   "execution_count": 15,
   "id": "fbbfdc00",
   "metadata": {},
   "outputs": [
    {
     "name": "stdout",
     "output_type": "stream",
     "text": [
      "+--------+\n",
      "|count(1)|\n",
      "+--------+\n",
      "|       9|\n",
      "+--------+\n",
      "\n"
     ]
    }
   ],
   "source": [
    "df1 = spark.read.load(\"file:///root/employee-data/Data/departments.csv\",format=\"csv\", sep=\",\", inferSchema=\"true\", header=\"true\")\n",
    "df1.createOrReplaceTempView(\"departments\")\n",
    "spark.sql(\"create table emp.departments SELECT * FROM departments\")\n",
    "spark.sql(\"select count(*) from emp.departments\").show()"
   ]
  },
  {
   "cell_type": "code",
   "execution_count": 16,
   "id": "21010df5",
   "metadata": {},
   "outputs": [
    {
     "name": "stdout",
     "output_type": "stream",
     "text": [
      "+--------+\n",
      "|count(1)|\n",
      "+--------+\n",
      "|  300024|\n",
      "+--------+\n",
      "\n"
     ]
    }
   ],
   "source": [
    "df2 = spark.read.load(\"file:///root/employee-data/Data/employees.csv\", format=\"csv\", sep=\",\", inferSchema=\"true\", header=\"true\")\n",
    "df2.createOrReplaceTempView(\"employees\")\n",
    "spark.sql(\"create table emp.employees select * from employees\")\n",
    "spark.sql(\"select count(*) from emp.employees \").show()"
   ]
  },
  {
   "cell_type": "code",
   "execution_count": 17,
   "id": "54545879",
   "metadata": {},
   "outputs": [
    {
     "name": "stdout",
     "output_type": "stream",
     "text": [
      "+--------+\n",
      "|count(1)|\n",
      "+--------+\n",
      "|  331603|\n",
      "+--------+\n",
      "\n"
     ]
    }
   ],
   "source": [
    "df3 = spark.read.load(\"file:///root/employee-data/Data/dept_emp.csv\",format=\"csv\", sep=\",\", inferSchema=\"true\", header=\"true\")\n",
    "df3.createOrReplaceTempView(\"dept_emp\")\n",
    "spark.sql(\"CREATE TABLE emp.dept_emp  SELECT * FROM dept_emp \")\n",
    "spark.sql(\"select count(*) from emp.dept_emp \").show()"
   ]
  },
  {
   "cell_type": "code",
   "execution_count": 18,
   "id": "4a575a00",
   "metadata": {},
   "outputs": [
    {
     "name": "stdout",
     "output_type": "stream",
     "text": [
      "+--------+\n",
      "|count(1)|\n",
      "+--------+\n",
      "|      24|\n",
      "+--------+\n",
      "\n"
     ]
    }
   ],
   "source": [
    "df4 = spark.read.load(\"file:///root/employee-data/Data/dept_manager.csv\",format=\"csv\", sep=\",\", inferSchema=\"true\", header=\"true\")\n",
    "df4.createOrReplaceTempView(\"dept_manager\")\n",
    "spark.sql(\"CREATE TABLE emp.dept_manager  SELECT * FROM dept_manager \")\n",
    "spark.sql(\"select count(*) from emp.dept_manager\").show()"
   ]
  },
  {
   "cell_type": "code",
   "execution_count": 19,
   "id": "630931b1",
   "metadata": {},
   "outputs": [
    {
     "name": "stdout",
     "output_type": "stream",
     "text": [
      "+--------+\n",
      "|count(1)|\n",
      "+--------+\n",
      "|  300024|\n",
      "+--------+\n",
      "\n"
     ]
    }
   ],
   "source": [
    "df5 = spark.read.load(\"file:///root/employee-data/Data/salaries.csv\",format=\"csv\", sep=\",\", inferSchema=\"true\", header=\"true\")\n",
    "df5.createOrReplaceTempView(\"salaries\")\n",
    "spark.sql(\"CREATE TABLE emp.salaries  SELECT * FROM salaries \")\n",
    "spark.sql(\"select count(*) from emp.salaries \").show()"
   ]
  },
  {
   "cell_type": "code",
   "execution_count": 21,
   "id": "3d99e9d8",
   "metadata": {},
   "outputs": [
    {
     "name": "stdout",
     "output_type": "stream",
     "text": [
      "+--------+\n",
      "|count(1)|\n",
      "+--------+\n",
      "|       7|\n",
      "+--------+\n",
      "\n"
     ]
    }
   ],
   "source": [
    "df6 = spark.read.load(\"file:///root/employee-data/Data/titles.csv\",format=\"csv\", sep=\",\", inferSchema=\"true\", header=\"true\")\n",
    "df6.createOrReplaceTempView(\"titles\")\n",
    "spark.sql(\"CREATE TABLE emp.titles  SELECT * FROM titles \")\n",
    "spark.sql(\"select count(*) from emp.titles \").show()"
   ]
  }
 ],
 "metadata": {
  "kernelspec": {
   "display_name": "Python 3.6 (ipykernel)",
   "language": "python",
   "name": "python3.6"
  },
  "language_info": {
   "codemirror_mode": {
    "name": "ipython",
    "version": 3
   },
   "file_extension": ".py",
   "mimetype": "text/x-python",
   "name": "python",
   "nbconvert_exporter": "python",
   "pygments_lexer": "ipython3",
   "version": "3.6.8"
  }
 },
 "nbformat": 4,
 "nbformat_minor": 5
}
